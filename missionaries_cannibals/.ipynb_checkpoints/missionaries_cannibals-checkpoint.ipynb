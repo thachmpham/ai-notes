{
 "cells": [
  {
   "cell_type": "markdown",
   "id": "af4de4b1-a8fb-4b81-a429-ad77031b2dbe",
   "metadata": {
    "tags": []
   },
   "source": [
    "# Three Missionaries and Three Cannibals Problem\n",
    "## Problem Statement\n",
    "Three missionaries and three cannibals are on one side of a river, along with a boat that can hold one or two people. Find a way to get everyone to the other side without ever leaving a group of missionaries in one place outnumbered by the cannibals in that place.  \n",
    "*(Artificial Intelligence Mordem Approach - 3rd Edition - Exercise 3.9)*\n",
    "## Questions\n",
    "a. Formulate the problem precisely, making only those distinctions necessary to ensure a\n",
    "valid solution. Draw a diagram of the complete state space.  \n",
    "b. Implement and solve the problem optimally using an appropriate search algorithm. Is it\n",
    "a good idea to check for repeated states?  \n",
    "c. Why do you think people have a hard time solving this puzzle, given that the state space\n",
    "is so simple?  \n",
    "## Solutions\n",
    "### a. Formulate the problem:  \n",
    "- **State representation**  \n",
    "Three integers listing the number of missionaries, cannibals and boats on the left bank.  \n",
    "`state: (nr_missionaries, nr_cannibals, n_boats)`.   \n",
    "- **Initial state**  \n",
    "`(3, 3, 1)`  \n",
    "- **Goal state**  \n",
    "`(0, 0, 0)`  \n",
    "- **Actions**  \n",
    "Move one missionary, from left to right: `state - (1, 0, 1)`   \n",
    "Move one missionary, from right to left: `state + (1, 0, 1)`   \n",
    "Move two missionaries, from left to right: `state - (2, 0, 1)`   \n",
    "Move two missionaries, from right to left: `state + (2, 0, 1)`   \n",
    "Move one cannibals, from left to right: `state - (0, 1, 1)`   \n",
    "Move one cannibals, from right to left: `state + (0, 1, 1)`   \n",
    "Move two cannibals, from left to right: `state - (0, 2, 1)`   \n",
    "Move two cannibals, from right to left: `state + (0, 2, 1)`   \n",
    "Move one missionary, one cannibal from left to right: `state - (1, 1, 1)`   \n",
    "Move one missionary, one cannibal from right to left: `state + (1, 1, 1)`   \n",
    "- **Successor states**:  \n",
    "Any states that no missionary is eaten.  \n",
    "No missionary is eaten on the left bank: `state[0] >= state[1]`  \n",
    "No missionary is eaten on the right bank: `3-state[0] >= 3-state[1]`  \n",
    "No missionary is eaten: `state[0] >= state[1] and 3-state[0] >= 3-state[1]`  "
   ]
  },
  {
   "cell_type": "markdown",
   "id": "14d2316b-2b4c-4055-8fcf-9a8c27035a67",
   "metadata": {
    "tags": []
   },
   "source": [
    "### b. Implementation"
   ]
  },
  {
   "cell_type": "markdown",
   "id": "fa45ea98-15ca-45b1-89cf-a0d82206f03d",
   "metadata": {
    "tags": []
   },
   "source": [
    "#### Implement the basic elements of searching problem: initial, goal state, actions, neigbor states"
   ]
  },
  {
   "cell_type": "code",
   "execution_count": 63,
   "id": "49b3b0b5-8ce3-438e-bb5d-6903568c640f",
   "metadata": {},
   "outputs": [],
   "source": [
    "import numpy as np\n",
    "\n",
    "# state : (nr_missionaries, nr_cannibals, nr_boats) on the left bank\n",
    "init = (3, 3, 1) # 3 missionaries, 3 cannibals, 1 boat on left bank\n",
    "goal = (0, 0, 0) # nothing on left bank, all were moved to the right bank\n",
    "\n",
    "actions = [\n",
    "    (1,0,1), # move 1 missionary\n",
    "    (2,0,1), # move 2 missionaries\n",
    "    (0, 1, 1), # move 1 cannibal\n",
    "    (0, 2, 1), # move 2 cannibals\n",
    "    (1, 1, 1) # move 1 missionary, 1 cannibal\n",
    "]\n",
    "\n",
    "def neighbors(state):\n",
    "    ans = []\n",
    "    for action in actions:\n",
    "        if state[2] == 1: # boat on left bank\n",
    "            new_state = np.subtract(state, action)\n",
    "        else: # boat on right bank\n",
    "            new_state = np.add(state, action)\n",
    "        \n",
    "        if is_valid(new_state):\n",
    "            ans.append(tuple(new_state))\n",
    "    \n",
    "    return ans\n",
    "# end neighbors\n",
    "\n",
    "def is_valid(state):\n",
    "    if state[0] < 0 or state[0] > 3 or state[1] < 0 or state[1] > 3:\n",
    "        return False\n",
    "    \n",
    "    no_eat_in_left = (state[0] == 0) or (state[0] >= state[1])\n",
    "    no_eat_in_right = (3 - state[0] == 0) or (3 - state[0] >= 3 - state[1])\n",
    "    return no_eat_in_left and no_eat_in_right\n",
    "# end is_valid"
   ]
  },
  {
   "cell_type": "markdown",
   "id": "7187a9f5-cf46-4d73-80a5-47a0af0d73da",
   "metadata": {
    "tags": []
   },
   "source": [
    "#### Build the search tree"
   ]
  },
  {
   "cell_type": "code",
   "execution_count": 64,
   "id": "40585794-897f-4a57-b0a4-9086f05bcaf3",
   "metadata": {},
   "outputs": [],
   "source": [
    "# build search tree\n",
    "import networkx as nx\n",
    "\n",
    "g = nx.Graph()\n",
    "visited = set()\n",
    "\n",
    "def dfs(state):\n",
    "    if state in visited:\n",
    "        return\n",
    "    visited.add(state)\n",
    "    for neighbor in neighbors(state):\n",
    "        if neighbor in visited:\n",
    "            continue\n",
    "        g.add_edge(state, neighbor)\n",
    "        dfs(neighbor)"
   ]
  },
  {
   "cell_type": "code",
   "execution_count": 65,
   "id": "8f0bdc22-b8a8-4e7e-a6a9-d63764aa0990",
   "metadata": {},
   "outputs": [],
   "source": [
    "dfs(init)"
   ]
  },
  {
   "cell_type": "markdown",
   "id": "c9fa6e59-5165-491b-b48c-83c2f40bd475",
   "metadata": {},
   "source": [
    "#### Draw the search tree"
   ]
  },
  {
   "cell_type": "code",
   "execution_count": 66,
   "id": "01bedddd-9276-4f85-89a2-846ca259c765",
   "metadata": {},
   "outputs": [
    {
     "data": {
      "image/png": "[encoded data removed]",
      "text/plain": [
       "<Figure size 432x288 with 1 Axes>"
      ]
     },
     "metadata": {},
     "output_type": "display_data"
    }
   ],
   "source": [
    "import matplotlib.pyplot as plt\n",
    "from networkx.drawing.nx_pydot import graphviz_layout\n",
    "\n",
    "pos = nx.nx_agraph.graphviz_layout(g, prog='dot')\n",
    "nx.draw(g, pos)\n",
    "nx.draw_networkx_labels(g, pos)\n",
    "plt.show()"
   ]
  },
  {
   "cell_type": "markdown",
   "id": "d01ad8dc-cc7b-4047-bafe-eeaab1eaf5e6",
   "metadata": {},
   "source": [
    "#### Find paths from initial state to goal state"
   ]
  },
  {
   "cell_type": "code",
   "execution_count": 67,
   "id": "5718790c-2469-4890-8592-536cbf61743f",
   "metadata": {},
   "outputs": [
    {
     "name": "stdout",
     "output_type": "stream",
     "text": [
      "(3, 3, 1)\n",
      "(3, 1, 0)\n",
      "(3, 2, 1)\n",
      "(3, 0, 0)\n",
      "(3, 1, 1)\n",
      "(1, 1, 0)\n",
      "(2, 2, 1)\n",
      "(0, 2, 0)\n",
      "(0, 3, 1)\n",
      "(0, 1, 0)\n",
      "(1, 1, 1)\n",
      "(0, 0, 0)\n",
      "==========\n"
     ]
    }
   ],
   "source": [
    "paths = nx.all_shortest_paths(g, init, goal)\n",
    "\n",
    "for p in paths:\n",
    "    print('\\n'.join(map(str, p)))\n",
    "    print('==========')"
   ]
  },
  {
   "cell_type": "markdown",
   "id": "84d6881a-3b7e-4f5e-a422-a8f741194fee",
   "metadata": {},
   "source": [
    "### c. Why do you think people have a hard time solving this puzzle, given that the state space is so simple?\n",
    "Almost moves lead to either illegal or previous state, that make us hard to find a path to goal."
   ]
  }
 ],
 "metadata": {
  "kernelspec": {
   "display_name": "Python 3 (ipykernel)",
   "language": "python",
   "name": "python3"
  },
  "language_info": {
   "codemirror_mode": {
    "name": "ipython",
    "version": 3
   },
   "file_extension": ".py",
   "mimetype": "text/x-python",
   "name": "python",
   "nbconvert_exporter": "python",
   "pygments_lexer": "ipython3",
   "version": "3.10.6"
  }
 },
 "nbformat": 4,
 "nbformat_minor": 5
}
