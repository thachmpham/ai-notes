{
 "cells": [
  {
   "cell_type": "markdown",
   "id": "84f1d13c-ecab-4799-9e1f-ae0f744093cc",
   "metadata": {
    "tags": []
   },
   "source": [
    "# Read Data\n",
    "## Load data"
   ]
  },
  {
   "cell_type": "code",
   "execution_count": null,
   "id": "dde0eb58-6665-4167-88b8-d7649eb51bab",
   "metadata": {},
   "outputs": [],
   "source": [
    "import pandas as pd\n",
    "import matplotlib.pyplot as plt"
   ]
  },
  {
   "cell_type": "code",
   "execution_count": null,
   "id": "e6347f55-7f7f-4191-87b2-ebdf31b0779a",
   "metadata": {},
   "outputs": [],
   "source": [
    "college = pd.read_csv(\"../data/College.csv\")"
   ]
  },
  {
   "cell_type": "code",
   "execution_count": null,
   "id": "edf1d697-f964-440a-aa25-7822ba85ca5b",
   "metadata": {},
   "outputs": [],
   "source": [
    "college.info()"
   ]
  },
  {
   "cell_type": "code",
   "execution_count": null,
   "id": "2cdc04df-da8d-4e93-b089-5a7793123595",
   "metadata": {},
   "outputs": [],
   "source": [
    "college.describe()"
   ]
  },
  {
   "cell_type": "code",
   "execution_count": null,
   "id": "e473e81c-0981-40cb-9af1-1f4f75a40d3e",
   "metadata": {},
   "outputs": [],
   "source": [
    "college.head()"
   ]
  },
  {
   "cell_type": "code",
   "execution_count": null,
   "id": "804a7cae-21ec-4f10-bd38-6ff3c67ddfbd",
   "metadata": {
    "tags": []
   },
   "outputs": [],
   "source": [
    "college.columns"
   ]
  },
  {
   "cell_type": "code",
   "execution_count": null,
   "id": "b2ad3732-a913-47f0-bbc4-d75502e126e8",
   "metadata": {
    "tags": []
   },
   "outputs": [],
   "source": [
    "college['Apps']"
   ]
  },
  {
   "cell_type": "markdown",
   "id": "ee38957a-4c05-4372-a174-e4a3f4e8aaf4",
   "metadata": {},
   "source": [
    "## Select rows, columns\n",
    "```\n",
    "data.iloc[<row selection>, <column selection>]\n",
    "data.loc[<row selection>, <column selection>]\n",
    "```\n",
    "### Select rows"
   ]
  },
  {
   "cell_type": "code",
   "execution_count": null,
   "id": "24e60b16-aa3f-4db0-9eae-be5832881bab",
   "metadata": {},
   "outputs": [],
   "source": [
    "college.iloc[7, :]"
   ]
  },
  {
   "cell_type": "code",
   "execution_count": null,
   "id": "5f1049a0-97ec-4406-9b72-a4c2a87eb208",
   "metadata": {},
   "outputs": [],
   "source": [
    "college.iloc[[0,1,2], :]"
   ]
  },
  {
   "cell_type": "code",
   "execution_count": null,
   "id": "af028353-482c-47ff-b715-8cdce0af710c",
   "metadata": {
    "tags": []
   },
   "outputs": [],
   "source": [
    "college.iloc[3:5, :]"
   ]
  },
  {
   "cell_type": "markdown",
   "id": "c9f4d1e0-9183-4335-ba94-09a425ad646b",
   "metadata": {},
   "source": [
    "### Select columns"
   ]
  },
  {
   "cell_type": "code",
   "execution_count": null,
   "id": "14ca1324-35e3-4faa-a684-47b64085c3ea",
   "metadata": {},
   "outputs": [],
   "source": [
    "college.iloc[:, [7]]"
   ]
  },
  {
   "cell_type": "code",
   "execution_count": null,
   "id": "e92eb448-eab0-4dd6-9486-d156173a96c0",
   "metadata": {},
   "outputs": [],
   "source": [
    "college.iloc[:, [0,1,2]]"
   ]
  },
  {
   "cell_type": "code",
   "execution_count": null,
   "id": "6a120e71-dc82-43be-b16c-cfa7c1726400",
   "metadata": {},
   "outputs": [],
   "source": [
    "college.iloc[:, 3:5]"
   ]
  },
  {
   "cell_type": "code",
   "execution_count": null,
   "id": "91149b67-f65d-4ae7-a23f-bb652da08e7a",
   "metadata": {},
   "outputs": [],
   "source": [
    "college.loc[:, 'Apps']"
   ]
  },
  {
   "cell_type": "code",
   "execution_count": null,
   "id": "8b40a6d5-43ae-485d-85b1-bcb6910e023a",
   "metadata": {},
   "outputs": [],
   "source": [
    "college.loc[:, ['Apps', 'Accept']]"
   ]
  },
  {
   "cell_type": "markdown",
   "id": "9a3a71a3-b51f-4212-b964-14fb9232fdd4",
   "metadata": {},
   "source": [
    "## Data type"
   ]
  },
  {
   "cell_type": "markdown",
   "id": "d020b253-406f-4a39-a6c6-bc9d72948fbd",
   "metadata": {},
   "source": [
    "### Convert to category"
   ]
  },
  {
   "cell_type": "code",
   "execution_count": null,
   "id": "20a9fadc-cc5d-4740-b790-b2f02b66e2c4",
   "metadata": {},
   "outputs": [],
   "source": [
    "private = college['Private']"
   ]
  },
  {
   "cell_type": "code",
   "execution_count": null,
   "id": "db009d1f-1cb2-4520-a3a6-f56046850def",
   "metadata": {
    "tags": []
   },
   "outputs": [],
   "source": [
    "private.astype('category')"
   ]
  }
 ],
 "metadata": {
  "kernelspec": {
   "display_name": "Python 3 (ipykernel)",
   "language": "python",
   "name": "python3"
  },
  "language_info": {
   "codemirror_mode": {
    "name": "ipython",
    "version": 3
   },
   "file_extension": ".py",
   "mimetype": "text/x-python",
   "name": "python",
   "nbconvert_exporter": "python",
   "pygments_lexer": "ipython3",
   "version": "3.10.6"
  }
 },
 "nbformat": 4,
 "nbformat_minor": 5
}
