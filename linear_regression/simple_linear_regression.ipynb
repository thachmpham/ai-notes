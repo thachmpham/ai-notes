{
 "cells": [
  {
   "cell_type": "markdown",
   "id": "7910ccff-3a6c-4d98-b463-ef6b8c8457d6",
   "metadata": {},
   "source": [
    "# Simple Linear Regression"
   ]
  },
  {
   "cell_type": "code",
   "execution_count": null,
   "id": "028ce1d6-c1f9-4b20-855e-89cb15030465",
   "metadata": {},
   "outputs": [],
   "source": [
    "import torch"
   ]
  },
  {
   "cell_type": "markdown",
   "id": "3b45184c-e6a5-4e28-8081-de075c879351",
   "metadata": {},
   "source": [
    "## Setup Input, Observed, Initial Parameters"
   ]
  },
  {
   "cell_type": "code",
   "execution_count": null,
   "id": "7a8a9e22-e2f9-4af1-8b35-22b5aef5b3ed",
   "metadata": {},
   "outputs": [],
   "source": [
    "x = torch.tensor([[1.], [2.], [3.], [4.]])\n",
    "y = 1 + 2 * x\n",
    "\n",
    "print(x)\n",
    "print(y)"
   ]
  },
  {
   "cell_type": "code",
   "execution_count": null,
   "id": "26676884-151f-4a10-a3a6-a1e0888b0cef",
   "metadata": {},
   "outputs": [],
   "source": [
    "model = torch.nn.Linear(1,1)\n",
    "print(model.weight)\n",
    "model.weight = torch.nn.Parameter(torch.tensor([[1.]]))\n",
    "print(model.weight)"
   ]
  },
  {
   "cell_type": "code",
   "execution_count": null,
   "id": "bce22098-2b59-404e-9e13-d0e0cfa99ace",
   "metadata": {},
   "outputs": [],
   "source": [
    "print(model.bias)\n",
    "model.bias = torch.nn.Parameter(torch.tensor([0.]))\n",
    "print(model.bias)"
   ]
  },
  {
   "cell_type": "markdown",
   "id": "7ea32cdd-f304-4537-9e60-c55701956e56",
   "metadata": {},
   "source": [
    "## Training Loop"
   ]
  },
  {
   "cell_type": "code",
   "execution_count": null,
   "id": "f4d62a05-c9ae-4677-9e64-cb57531c0441",
   "metadata": {},
   "outputs": [],
   "source": [
    "optimizer = torch.optim.SGD(model.parameters(), lr = 0.01)\n",
    "loss_fn = torch.nn.MSELoss()        "
   ]
  },
  {
   "cell_type": "code",
   "execution_count": null,
   "id": "4cbced3b-7d2e-4cdb-84b5-60edf5ac434f",
   "metadata": {},
   "outputs": [],
   "source": [
    "def train(n_epoch, x, y, model):\n",
    "    for epoch in range(1, n_epoch+1):\n",
    "        optimizer.zero_grad()\n",
    "        \n",
    "        # forward\n",
    "        y_pred = model(x)\n",
    "        loss = loss_fn(y, y_pred)\n",
    "        \n",
    "        # backward\n",
    "        loss.backward()\n",
    "        optimizer.step()\n",
    "        \n",
    "        # print('epoch\\t', epoch)\n",
    "        # print('loss\\t', loss.item())\n",
    "        # print('weight\\t', model.weight.item())\n",
    "        # print('bias\\t', model.bias.item())\n",
    "        # print('-----\\t\\n')"
   ]
  },
  {
   "cell_type": "code",
   "execution_count": null,
   "id": "7b8a7e34-bb12-48db-b285-073064cf1883",
   "metadata": {},
   "outputs": [],
   "source": [
    "train(10, x, y, model)\n",
    "print(model.bias.item())\n",
    "print(model.weight.item())"
   ]
  }
 ],
 "metadata": {
  "kernelspec": {
   "display_name": "Python 3 (ipykernel)",
   "language": "python",
   "name": "python3"
  },
  "language_info": {
   "codemirror_mode": {
    "name": "ipython",
    "version": 3
   },
   "file_extension": ".py",
   "mimetype": "text/x-python",
   "name": "python",
   "nbconvert_exporter": "python",
   "pygments_lexer": "ipython3",
   "version": "3.9.13"
  }
 },
 "nbformat": 4,
 "nbformat_minor": 5
}
