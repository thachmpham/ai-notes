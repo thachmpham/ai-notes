{
 "cells": [
  {
   "cell_type": "markdown",
   "id": "4aa570f8-274a-41cc-9683-6d93af9474b5",
   "metadata": {},
   "source": [
    "# Multiple Linear Regression"
   ]
  },
  {
   "cell_type": "code",
   "execution_count": null,
   "id": "7daa5c80-5f75-4110-be2e-99456fd6f212",
   "metadata": {},
   "outputs": [],
   "source": [
    "import torch"
   ]
  },
  {
   "cell_type": "markdown",
   "id": "46754a8f-264a-4766-85f0-f9d53b389e8d",
   "metadata": {},
   "source": [
    "## Setup input, actual weight, bias and observed"
   ]
  },
  {
   "cell_type": "code",
   "execution_count": null,
   "id": "f85d27c5-5eb2-408d-baaf-e13df1f06c71",
   "metadata": {},
   "outputs": [],
   "source": [
    "x = torch.tensor([[1.,2.],[3.,4.], [5.,6.]])\n",
    "w = torch.tensor([[3.], [5.]])\n",
    "b = torch.tensor([[1.]])\n",
    "\n",
    "y = torch.mm(x,w) + b\n",
    "\n",
    "print(x)\n",
    "print(w)\n",
    "print(b)\n",
    "print(y)"
   ]
  },
  {
   "cell_type": "markdown",
   "id": "266a6910-ce13-4ab1-8819-61f4221d6e21",
   "metadata": {},
   "source": [
    "## Setup model"
   ]
  },
  {
   "cell_type": "code",
   "execution_count": null,
   "id": "3c3a1a3b-7a5b-4687-adcb-8276570c1c4c",
   "metadata": {},
   "outputs": [],
   "source": [
    "model = torch.nn.Linear(2,1)\n",
    "model.weight = torch.nn.Parameter(torch.tensor([[ 1., 1.]]))\n",
    "model.bias = torch.nn.Parameter(torch.tensor([0.]))\n",
    "print(model.weight)\n",
    "print(model.bias)"
   ]
  },
  {
   "cell_type": "code",
   "execution_count": null,
   "id": "54c7f938-f4fb-4df0-9651-00d001f5063b",
   "metadata": {},
   "outputs": [],
   "source": [
    "y_pred = model(x)\n",
    "print(y_pred)"
   ]
  },
  {
   "cell_type": "markdown",
   "id": "f5c77dc0-5f12-46c7-8270-6a20427c26b2",
   "metadata": {},
   "source": [
    "## Setup loss function, optimizer"
   ]
  },
  {
   "cell_type": "code",
   "execution_count": null,
   "id": "f6d6ff81-f5b6-4d5c-bdd1-038bd2657f8c",
   "metadata": {},
   "outputs": [],
   "source": [
    "loss_fn = torch.nn.MSELoss()\n",
    "optimizer = torch.optim.SGD(model.parameters(), lr = 0.1)"
   ]
  },
  {
   "cell_type": "code",
   "execution_count": null,
   "id": "a125b270-5e1c-400e-8a74-04ee7ac2b161",
   "metadata": {},
   "outputs": [],
   "source": [
    "# check if loss function work well\n",
    "print(y)\n",
    "print(y_pred)\n",
    "diff = (y - y_pred) ** 2\n",
    "print('manual loss', sum(diff)/3)\n",
    "\n",
    "print('tool loss', loss_fn(y, y_pred))"
   ]
  },
  {
   "cell_type": "markdown",
   "id": "46cf1b15-e12f-44d3-bd47-6833227f2a9f",
   "metadata": {},
   "source": [
    "## Training loop"
   ]
  },
  {
   "cell_type": "code",
   "execution_count": null,
   "id": "123aa7f9-6f39-421f-a317-cbb35a6a5cfd",
   "metadata": {},
   "outputs": [],
   "source": [
    "def train(n_epoch):\n",
    "    for epoch in range(1, n_epoch+1):\n",
    "        # init\n",
    "        optimizer.zero_grad()\n",
    "        \n",
    "        # forward\n",
    "        y_pred = model(x)\n",
    "        loss = loss_fn(y, y_pred)\n",
    "        \n",
    "        # backward\n",
    "        loss.backward()\n",
    "        optimizer.step()\n",
    "        \n",
    "        # debug\n",
    "        # print('epoch', epoch)\n",
    "        # print('loss', loss.item())\n",
    "        # print('weight', model.weight)\n",
    "        # print('bias', model.bias)\n",
    "        # print('---\\n')"
   ]
  },
  {
   "cell_type": "code",
   "execution_count": null,
   "id": "0c39b0a4-2b76-4939-9628-a1743c741681",
   "metadata": {},
   "outputs": [],
   "source": [
    "# init random weight, bias\n",
    "model.weight = torch.nn.Parameter(torch.tensor([[ 1., 1.]]))\n",
    "model.bias = torch.nn.Parameter(torch.tensor([0.]))\n",
    "\n",
    "# init loss function, optimizer\n",
    "loss_fn = torch.nn.MSELoss()\n",
    "optimizer = torch.optim.SGD(model.parameters(), lr = 0.01)\n",
    "\n",
    "train(2000)\n",
    "\n",
    "print('weight', model.weight)\n",
    "print('bias', model.bias)"
   ]
  },
  {
   "cell_type": "code",
   "execution_count": null,
   "id": "b1d02e67-67fe-4967-a209-aa407a3eca47",
   "metadata": {},
   "outputs": [],
   "source": []
  },
  {
   "cell_type": "code",
   "execution_count": null,
   "id": "0002bbb4-4568-4a1b-8ff8-2cbfd7f87b77",
   "metadata": {},
   "outputs": [],
   "source": []
  }
 ],
 "metadata": {
  "kernelspec": {
   "display_name": "Python 3 (ipykernel)",
   "language": "python",
   "name": "python3"
  },
  "language_info": {
   "codemirror_mode": {
    "name": "ipython",
    "version": 3
   },
   "file_extension": ".py",
   "mimetype": "text/x-python",
   "name": "python",
   "nbconvert_exporter": "python",
   "pygments_lexer": "ipython3",
   "version": "3.9.13"
  }
 },
 "nbformat": 4,
 "nbformat_minor": 5
}
