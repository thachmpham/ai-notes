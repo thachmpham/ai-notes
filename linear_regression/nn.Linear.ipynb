{
 "cells": [
  {
   "cell_type": "markdown",
   "id": "5754c367-8b0f-48e0-98fb-0e4b52f20980",
   "metadata": {},
   "source": [
    "# nn.Linear"
   ]
  },
  {
   "cell_type": "markdown",
   "id": "9e1ca81b-0c37-4e11-b4f6-f9ddfd9b36f2",
   "metadata": {},
   "source": [
    "## Define model\n",
    "Input Layer:  4 nodes    \n",
    "Output Layer: 2 nodes"
   ]
  },
  {
   "cell_type": "code",
   "execution_count": null,
   "id": "665fd173-5f84-4585-80b4-41e85a64d4d3",
   "metadata": {},
   "outputs": [],
   "source": [
    "import torch\n",
    "\n",
    "model = torch.nn.Linear(4, 2, False)\n",
    "\n",
    "model.weight = torch.nn.Parameter(torch.tensor(\n",
    "    [[1., 1., 1., 1.],\n",
    "    [ 1., 1., 1., 1.]]))"
   ]
  },
  {
   "cell_type": "markdown",
   "id": "97026780-574a-4fab-9534-f372caf2e1a3",
   "metadata": {},
   "source": [
    "## Test 1\n",
    "Input: 1 x 4"
   ]
  },
  {
   "cell_type": "code",
   "execution_count": null,
   "id": "98f55a0f-e572-49d9-8fed-77d5b4242d1e",
   "metadata": {},
   "outputs": [],
   "source": [
    "x = torch.tensor([1., 1., 1. , 1.])\n",
    "y = model(x)\n",
    "\n",
    "print('x\\t', x.detach())\n",
    "print('weight\\t', model.weight.detach())\n",
    "print('y\\t', y.detach())"
   ]
  },
  {
   "cell_type": "markdown",
   "id": "45102738-0284-4a28-a882-57acf5a8bb67",
   "metadata": {},
   "source": [
    "## Test 2\n",
    "Input: 2 x 4"
   ]
  },
  {
   "cell_type": "code",
   "execution_count": null,
   "id": "3c978842-d024-4900-856a-3c32da7e9370",
   "metadata": {},
   "outputs": [],
   "source": [
    "x = torch.tensor([[1., 1., 1., 1.],\n",
    "                 [2., 2., 2., 2.]] )\n",
    "y = model(x)\n",
    "\n",
    "print('x\\t', x.detach())\n",
    "print('weight\\t', model.weight.detach())\n",
    "print('y\\t', y.detach())"
   ]
  }
 ],
 "metadata": {
  "kernelspec": {
   "display_name": "Python 3 (ipykernel)",
   "language": "python",
   "name": "python3"
  },
  "language_info": {
   "codemirror_mode": {
    "name": "ipython",
    "version": 3
   },
   "file_extension": ".py",
   "mimetype": "text/x-python",
   "name": "python",
   "nbconvert_exporter": "python",
   "pygments_lexer": "ipython3",
   "version": "3.9.13"
  }
 },
 "nbformat": 4,
 "nbformat_minor": 5
}
